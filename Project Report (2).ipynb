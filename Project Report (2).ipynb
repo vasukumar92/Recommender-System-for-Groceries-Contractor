{
 "cells": [
  {
   "cell_type": "markdown",
   "metadata": {},
   "source": [
    "# The Battle of Neighborhoods\n",
    "\n",
    "## Recommender System for Groceries Contractor\n",
    "\n",
    "### PROJECT REPORT\n",
    "\n",
    "**1. EXECUTIVE SUMMARY**\n",
    "\n",
    "Groceries are critical part for any Restaurants, Bakery, Breakfast Spot, Brewery, Cafe (with fresh and high quality groceries) etc. Their quality and timely delivery plays a critical role in the servicability of a vendor. The supply chain's most important element in its supply is distributor or supplier. The location, transportation method, cost and quality plays a significant role. Moreover, the warehouse location plays a critical role in developement and progress of a contractor / distributor. The porject discusses a method to data mapping, visualization and applying machine learning techniques in order to identify optimum location in a neighbourhoog in Scarborough of Toronto for a groceries contractor.\n",
    "\n",
    "**2. PROBLEM DESCRIPTION**\n",
    "\n",
    "The problem statement is to provide warehouse location recomendations to a groceries contractor (in one of the boroughs of Toronto - Scarborouh). The contractor is a supplier to various Restaurants, Bakery, Breakfast Spot, Brewery, Cafe (with fresh and high quality groceries). The contractor wants to build a warehouse for the groceries it buys from villagers and farmers inside the borough, so that they will support more customers and also bring better \"Quality of Service\" to the old customers.\n",
    "\n",
    "For example, if the warehouse is close to those old and famous restaurants, then the vegetables and other groceries would be delivered to the restaurant in the right time and there would be no delay so the restaurant cooks can start their job from the morning and the Quality of Service will be high and this contractor will gain more reputation and income.\n",
    "\n",
    "The contractor should build this warehouse where it is closest to its customers in order to minimize the cost of transpotation in addition to the example above. which neighborhood (in that borough) would be a better choice for the contractor to build the warehouse in that neighborhood. Finding the right neighborhood is our mission and our recommender system will provide this contractor with a sorted list of neighborhoods in which the first element of the list will be the best suggested neighborhood.\n",
    "\n",
    "**3. DATA**\n",
    "\n",
    "We will need geo-locational information about that specific borough and the neighborhoods in that borough. We specifically and technically mean the latitude and longitude numbers of that borough. We assume that it is \"Scarborough\" in Toronto. This is easily provided for us by the contractor, because the contractor has already made up his mind about the borough. The Postal Codes that fall into that borough (Scarborough) would also be sufficient fo us. I fact we will first find neighborhoods inside Scarborough by their corresponding Postal Codes.\n",
    "\n",
    "We will need data about different venues in different neighborhoods of that specific borough. In order to gain that information we will use \"Foursquare\" locational information. By locational information for each venue we mean basic and advanced information about that venue. For example there is a venue in one of the neighborhoods. As basic information, we can obtain its precise latitude and longitude and also its distance from the center of the neighborhood. But we are looking for advanced information such as the category of that venue and whether this venue is a popular one in its category or maybe the average price of the services of this venue. A typical request from Foursquare will provide us with the following information:\n",
    "\n",
    "[Postal Code] [Neighborhood(s)] [Neighborhood Latitude] [Neighborhood Longitude] [Venue] [Venue Summary] [Venue Category] [Distance (meter)]\n",
    "\n",
    "[M1L] [Clairlea, Golden Mile, Oakridge] [43.711112] [-79.284577] [Tim Hortons] [This spot is popular] [Coffee Shop] [592]\n",
    "\n",
    "**4. IDENTIFICATION OF POSTAL CODES**\n",
    "\n",
    "The Postal Codes of different regions inside Scarborough are used to find the list of neighborhoods. They are essentially obtained from https://en.wikipedia.org/wiki/List_of_postal_codes_of_Canada:_M. Then using wescraping we extracted the table inside. \n",
    "\n",
    "**5. FOURSWAURE API ACCESS**\n",
    "\n",
    "After finding the list of neighborhoods, the Foursquare API is connected to gather information about venues inside each and every neighborhood. For each neighborhood, the radius chosen is 1000 meter. It means, the Foursquare willfind venues that are at most 1000 meter far from the center of the neighborhood.\n",
    "\n",
    "**6. FINAL METADATA**\n",
    "\n",
    "When the data is completely gathered, processing is done on that raw data to find desirable features for each venue. The main feature is the category of that venue. After this stage, the column \"Venue's Category\" will be One-hot encoded and different venues will have different feature-columns. After One-hot encoding, integration of all restaurant columns to one column \"Total Restaurants\" and all food joint columns to \"Total Joints\" column is done. Assumption made here is that different resaturants use the Same raw groceries. This assumption is made for simplicity and due to not having a very detailed dataset about different venues. Now, the dataset is fully ready to be used for machine learning (and statistical analysis) purposes.¶\n",
    "\n",
    "\n",
    "**7. MACHINE LEARNING**\n",
    "\n",
    "Technique Used: k-means clustering method.5 clusters are enough and can cover the complexity of the problem. After clustering, dataset is updated and a column representing the group for each neighborhood is created\n",
    "\n",
    "**8. RESULTS**\n",
    "\n",
    "The centers of clusters are focused and compared for their \"Total Restaurants\" and their \"Total Joints\". The group whose center has the highest \"Total Sum\" will be the best recommendation to the contractor. {Note: Total Sum = Total Restaurants + Total Joints + Other Venues.} This algorithm although is pretty straightforward yet is strongly powerful.\n",
    "\n",
    "Based on this analysis, the best recommended neighborhood will be:\n",
    "{'Postal Code': 'M1S',\n",
    " 'Neighborhood': 'Agincourt',\n",
    " 'Neighborhood Latitude': 43.7942003,\n",
    " 'Neighborhood Longitude': -79.26202940000002}\n"
   ]
  },
  {
   "cell_type": "code",
   "execution_count": null,
   "metadata": {},
   "outputs": [],
   "source": []
  }
 ],
 "metadata": {
  "kernelspec": {
   "display_name": "Python 3",
   "language": "python",
   "name": "python3"
  },
  "language_info": {
   "codemirror_mode": {
    "name": "ipython",
    "version": 3
   },
   "file_extension": ".py",
   "mimetype": "text/x-python",
   "name": "python",
   "nbconvert_exporter": "python",
   "pygments_lexer": "ipython3",
   "version": "3.7.1"
  }
 },
 "nbformat": 4,
 "nbformat_minor": 2
}
